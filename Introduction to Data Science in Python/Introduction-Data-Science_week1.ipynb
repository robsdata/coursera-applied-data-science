{
 "cells": [
  {
   "cell_type": "markdown",
   "metadata": {},
   "source": [
    "# Introduction to Data Science in Python\n"
   ]
  },
  {
   "cell_type": "markdown",
   "metadata": {},
   "source": [
    "## Week 1 - Fundamentals of Data Manipulation with Python"
   ]
  },
  {
   "cell_type": "markdown",
   "metadata": {},
   "source": [
    "### Learning Objectives\n",
    "\n",
    "---\n",
    "\n",
    "- Load, manipulate, and select data using numpy, as well as understand the fundamental data types in the numpy ecosystem\n",
    "- Show the benefits of vectorization with numpy data\n",
    "- Apply regular expressions to string data\n",
    "- Demonstrate, at a high level, how regular expression pattern matching is expressed"
   ]
  }
 ],
 "metadata": {
  "language_info": {
   "name": "python"
  },
  "orig_nbformat": 4
 },
 "nbformat": 4,
 "nbformat_minor": 2
}
