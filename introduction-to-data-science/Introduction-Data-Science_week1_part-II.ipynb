{
 "cells": [
  {
   "cell_type": "markdown",
   "metadata": {},
   "source": [
    "# **WEEK 1**\n",
    "## Fundamentals of Data Manipulation with Python\n",
    "---"
   ]
  },
  {
   "cell_type": "markdown",
   "metadata": {},
   "source": [
    "### **Python Dates & Time**\n",
    "\n",
    "Mastering date and time manipulation is crucial for effective data analysis in Python. This article has introduced you to the fundamentals, empowering you to work with date and time data efficiently. \n",
    "\n",
    "\n",
    "#### **Handling Dates and Times in Python: A Comprehensive Guide**\n",
    "\n",
    "In data analysis, dates and times are essential components. Whether you're calculating averages, mining data, or tracking activity trends, a strong grasp of date and time manipulation in Python is invaluable.\n",
    "\n",
    "- **Storing Dates and Times:** Dates and times can be stored in various formats. In online transaction systems, one common method is based on the offset from the epoch, which is January 1, 1970. Although this approach may seem cryptic, it's not uncommon to encounter systems that store timestamps as seconds or milliseconds since this epoch. Converting these values is essential to make sense of the data.\n",
    "\n",
    "- **Python's `datetime` Module:** Python provides a powerful tool for working with dates and times through the `datetime` module. This module allows you to obtain the current time since the epoch and create detailed timestamps, including year, month, day, and more. It's a versatile toolkit for date and time manipulation.\n",
    "\n",
    "- **Utilizing `datetime` Attributes:** The `datetime` object offers numerous attributes for extracting specific information such as hours, days, and seconds. These attributes provide granular control over date and time data, making it easier to perform a wide range of operations.\n",
    "\n",
    "- **Performing Calculations with Time Deltas:** One of Python's strengths lies in its ability to handle time deltas. You can easily perform arithmetic operations with time deltas, enabling tasks like creating sliding windows for data analysis. For instance, you can identify periods of peak sales activity within a five-day span for further investigation.\n",
    "\n",
    "\n"
   ]
  },
  {
   "cell_type": "markdown",
   "metadata": {},
   "source": [
    "---"
   ]
  },
  {
   "cell_type": "markdown",
   "metadata": {},
   "source": [
    "- **import datetime:** This imports the datetime module, which provides classes and functions for working with dates and times.\n",
    "\n",
    "- **import time:** This imports the time module, which includes functions for working with time-related operations."
   ]
  },
  {
   "cell_type": "code",
   "execution_count": 29,
   "metadata": {},
   "outputs": [],
   "source": [
    "import datetime as dt\n",
    "import time as tm"
   ]
  },
  {
   "cell_type": "code",
   "execution_count": 30,
   "metadata": {},
   "outputs": [
    {
     "data": {
      "text/plain": [
       "1694816614.4363496"
      ]
     },
     "execution_count": 30,
     "metadata": {},
     "output_type": "execute_result"
    }
   ],
   "source": [
    "\n",
    "# This will print the number of seconds since the epoch to the current moment\n",
    "\n",
    "tm.time()"
   ]
  },
  {
   "cell_type": "markdown",
   "metadata": {},
   "source": [
    "#### **Display the current date and time in the format: YYYY-MM-DD HH:MM:SS.ssssss.**\n"
   ]
  },
  {
   "cell_type": "code",
   "execution_count": 31,
   "metadata": {},
   "outputs": [
    {
     "data": {
      "text/plain": [
       "datetime.datetime(2023, 9, 15, 16, 23, 34, 451713)"
      ]
     },
     "execution_count": 31,
     "metadata": {},
     "output_type": "execute_result"
    }
   ],
   "source": [
    "\n",
    "# When you run this code, it will display the current date and time in the format: YYYY-MM-DD HH:MM:SS.ssssss.\n",
    "\n",
    "dtnow = dt.datetime.fromtimestamp(tm.time())\n",
    "dtnow"
   ]
  },
  {
   "cell_type": "markdown",
   "metadata": {},
   "source": [
    "\n",
    "- **dtnow**: This line simply evaluates the dtnow variable. However, it doesn't have any effect on the script's output. This line is usually used in interactive environments like Jupyter Notebook to display the value of a variable.\n",
    "- **dtnow = dt.datetime.fromtimestamp(tm.time())**: This line of code does the following:\n",
    "  - **tm.time()**: It calls the time() function from the time module, which returns the current system time in seconds since the Unix epoch (January 1, 1970, at 00:00:00 UTC) as a floating-point number (float).\n",
    "  - **dt.datetime.fromtimestamp()**: This is a method of the datetime class within the datetime module. It is used to convert a Unix timestamp (the result of tm.time()) into a datetime object, which represents a specific date and time.\n",
    "  - **dtnow = ...**: The resulting datetime object is assigned to the variable dtnow, which can be used to manipulate or display the current date and time."
   ]
  },
  {
   "cell_type": "code",
   "execution_count": 32,
   "metadata": {},
   "outputs": [
    {
     "name": "stdout",
     "output_type": "stream",
     "text": [
      "2023-09-15 16:23:34.451713\n"
     ]
    }
   ],
   "source": [
    "print(dtnow)"
   ]
  },
  {
   "cell_type": "code",
   "execution_count": 33,
   "metadata": {},
   "outputs": [
    {
     "data": {
      "text/plain": [
       "(2023, 9, 15, 16, 23, 34)"
      ]
     },
     "execution_count": 33,
     "metadata": {},
     "output_type": "execute_result"
    }
   ],
   "source": [
    "dtnow.year, dtnow.month, dtnow.day, dtnow.hour, dtnow.minute, dtnow.second"
   ]
  },
  {
   "cell_type": "markdown",
   "metadata": {},
   "source": [
    "- **dtnow.year, dtnow.month, dtnow.day, dtnow.hour, dtnow.minute, dtnow.second:** These lines access various attributes of the datetime object dtnow to extract different components of the current date and time, such as the year, month, day, hour, minute, and second. Each of these attributes retrieves an integer value corresponding to the respective component."
   ]
  },
  {
   "cell_type": "code",
   "execution_count": 34,
   "metadata": {},
   "outputs": [
    {
     "data": {
      "text/plain": [
       "datetime.timedelta(days=100)"
      ]
     },
     "execution_count": 34,
     "metadata": {},
     "output_type": "execute_result"
    }
   ],
   "source": [
    "delta = dt.timedelta(days=100)\n",
    "delta"
   ]
  },
  {
   "cell_type": "code",
   "execution_count": 35,
   "metadata": {},
   "outputs": [
    {
     "name": "stdout",
     "output_type": "stream",
     "text": [
      "100 days, 0:00:00\n"
     ]
    }
   ],
   "source": [
    "print(delta)"
   ]
  },
  {
   "cell_type": "markdown",
   "metadata": {},
   "source": [
    "When you run this code, it creates a time delta object representing a duration of 100 days and stores it in the delta variable. The delta variable can be used for various time-related calculations, such as adding or subtracting this duration from dates or times using the datetime module's functionality.\n",
    "\n",
    "- **delta = dt.timedelta(days=100)**: This line creates a time delta object named delta. A time delta represents a duration or difference between two dates or times. In this case, it's creating a time delta of 100 days.\n",
    "\n",
    "    - **dt.timedelta(days=100)**: This part of the code uses the timedelta class within the datetime module to create a time delta object. The days argument is set to 100, which means it represents a duration of 100 days."
   ]
  },
  {
   "cell_type": "code",
   "execution_count": 36,
   "metadata": {},
   "outputs": [
    {
     "data": {
      "text/plain": [
       "datetime.date(2023, 9, 15)"
      ]
     },
     "execution_count": 36,
     "metadata": {},
     "output_type": "execute_result"
    }
   ],
   "source": [
    "today = dt.date.today()\n",
    "today"
   ]
  },
  {
   "cell_type": "code",
   "execution_count": 37,
   "metadata": {},
   "outputs": [
    {
     "name": "stdout",
     "output_type": "stream",
     "text": [
      "2023-09-15\n"
     ]
    }
   ],
   "source": [
    "print(today)"
   ]
  },
  {
   "cell_type": "code",
   "execution_count": 38,
   "metadata": {},
   "outputs": [
    {
     "data": {
      "text/plain": [
       "datetime.date(2023, 6, 7)"
      ]
     },
     "execution_count": 38,
     "metadata": {},
     "output_type": "execute_result"
    }
   ],
   "source": [
    "today - delta"
   ]
  },
  {
   "cell_type": "code",
   "execution_count": 39,
   "metadata": {},
   "outputs": [
    {
     "name": "stdout",
     "output_type": "stream",
     "text": [
      "2023-06-07\n"
     ]
    }
   ],
   "source": [
    "print(today - delta)"
   ]
  },
  {
   "cell_type": "code",
   "execution_count": 40,
   "metadata": {},
   "outputs": [
    {
     "data": {
      "text/plain": [
       "True"
      ]
     },
     "execution_count": 40,
     "metadata": {},
     "output_type": "execute_result"
    }
   ],
   "source": [
    "today > today-delta"
   ]
  }
 ],
 "metadata": {
  "kernelspec": {
   "display_name": "Python 3",
   "language": "python",
   "name": "python3"
  },
  "language_info": {
   "codemirror_mode": {
    "name": "ipython",
    "version": 3
   },
   "file_extension": ".py",
   "mimetype": "text/x-python",
   "name": "python",
   "nbconvert_exporter": "python",
   "pygments_lexer": "ipython3",
   "version": "3.11.5"
  },
  "orig_nbformat": 4
 },
 "nbformat": 4,
 "nbformat_minor": 2
}
