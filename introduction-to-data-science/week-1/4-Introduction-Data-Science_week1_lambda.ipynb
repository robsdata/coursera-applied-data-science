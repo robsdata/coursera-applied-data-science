{
 "cells": [
  {
   "cell_type": "markdown",
   "metadata": {},
   "source": [
    "# **WEEK 1**\n",
    "## **Fundamentals of Data Manipulation with Python**\n",
    "---"
   ]
  },
  {
   "cell_type": "markdown",
   "metadata": {},
   "source": [
    "### **Advanced Python Lambda and List Comprehensions**"
   ]
  },
  {
   "cell_type": "markdown",
   "metadata": {},
   "source": [
    "Lambda functions and list comprehensions are advanced Python techniques that can significantly simplify your code and make it more expressive. While lambdas are perfect for creating short-lived anonymous functions, list comprehensions provide an efficient and readable way to generate lists.\n",
    "\n",
    "These advanced tools are commonly used in data science, and by mastering them, you'll be better equipped to work with Python in various programming tasks. While you're not required to use them in assignments, they are valuable additions to your Python programming toolkit. So go ahead and explore their capabilities to enhance your Python coding skills."
   ]
  },
  {
   "cell_type": "markdown",
   "metadata": {},
   "source": [
    "#### **Lambda Functions: Creating Anonymous Functions**\n",
    "\n",
    "Lambda functions are Python's way of creating anonymous functions—functions without a name. These functions are typically short-lived and straightforward, making it more convenient to write them in a single line rather than defining a named function. The lambda syntax is relatively simple but may take some getting used to:\n",
    "\n",
    "``` python\n",
    "\n",
    "lambda arguments: expression\n",
    "\n",
    "```\n",
    "\n",
    "Here's a breakdown of how lambda functions work:\n",
    "\n",
    "You declare a lambda function with the **lambda** keyword, followed by a list of arguments, a colon, and a single expression.\n",
    "Lambda functions have only one expression to be evaluated, and the result of this expression is returned when you execute the lambda.\n",
    "Consider this example:\n",
    "\n",
    "\n",
    "``` python\n",
    "\n",
    "my_function = lambda x, y, z: x + y + z\n",
    "result = my_function(1, 2, 3)\n",
    "print(result)  # Output: 6\n",
    "\n",
    "```\n",
    "\n",
    "Note that a lambda's return value is a function reference, so you can execute the lambda and pass in different parameters as needed.\n",
    "\n",
    "It's important to remember that lambda functions have limitations. You cannot assign default values to lambda parameters, and complex logic isn't feasible inside a lambda because you're constrained to a single expression.\n",
    "\n",
    "Despite their limitations, lambdas are incredibly useful for simple data cleaning tasks and can be found in many examples online."
   ]
  },
  {
   "cell_type": "markdown",
   "metadata": {},
   "source": [
    "#### **List Comprehensions: A Concise Way to Create Lists**\n",
    "\n",
    "List comprehensions offer a concise way to generate lists in Python. They are a syntactic construct for creating a new list by applying an expression to each item in an iterable, such as a list, tuple, or range. \n",
    "The basic syntax of a list comprehension is as follows:\n",
    "\n",
    "``` python\n",
    "new_list = [expression for item in iterable if condition]\n",
    "```\n",
    "\n",
    "Here's a breakdown of list comprehensions:\n",
    "\n",
    "- You specify the expression to calculate values in the new list.\n",
    "- You iterate over each item in the iterable.\n",
    "- An optional if clause allows you to filter items based on a condition.\n",
    "\n",
    "Consider this example:\n",
    "\n",
    "\n",
    "``` python\n",
    "numbers = [1, 2, 3, 4, 5]\n",
    "squared = [x ** 2 for x in numbers if x % 2 == 0]\n",
    "print(squared)  # Output: [4, 16]\n",
    "``` \n",
    "\n",
    "In this example, we used a list comprehension to create a new list, squared, containing the squares of even numbers from the numbers list.\n",
    "\n",
    "List comprehensions can also be used to create sets and dictionaries in a similar concise manner."
   ]
  },
  {
   "cell_type": "markdown",
   "metadata": {},
   "source": [
    "Convert this function into a lambda:\n",
    "\n",
    "``` python\n",
    "\n",
    "people = ['Dr. Christopher Brooks', 'Dr. Kevyn Collins-Thompson', 'Dr. VG Vinod Vydiswaran', 'Dr. Daniel Romero']\n",
    "\n",
    "def split_title_and_name(person):\n",
    "    return person.split()[0] + ' ' + person.split()[-1]\n",
    "\n",
    "#option 1\n",
    "for person in people:\n",
    "    print(split_title_and_name(person) == (lambda person:???))\n",
    "\n",
    "#option 2\n",
    "#list(map(split_title_and_name, people)) == list(map(???))\n",
    "\n",
    "``` \n",
    "\n",
    "people = ['Dr. Christopher Brooks', 'Dr. Kevyn Collins-Thompson', 'Dr. VG Vinod Vydiswaran', 'Dr. Daniel Romero']\n",
    "\n",
    "def split_title_and_name(person):\n",
    "    return person.split()[0] + ' ' + person.split()[-1]\n",
    "\n",
    "#option 1\n",
    "for person in people:\n",
    "    print(split_title_and_name(person) == (lambda x: x.split()[0] + ' ' + x.split()[-1])(person))\n",
    "\n",
    "#option 2\n",
    "list(map(split_title_and_name, people)) == list(map(lambda person: person.split()[0] + ' ' + person.split()[-1], people))"
   ]
  },
  {
   "cell_type": "markdown",
   "metadata": {},
   "source": [
    "Here, why don’t you try converting a function into a list comprehension.\n",
    "\n",
    "``` python\n",
    "\n",
    "def times_tables():\n",
    "    lst = []\n",
    "    for i in range(10):\n",
    "        for j in range (10):\n",
    "            lst.append(i*j)\n",
    "    return lst\n",
    "\n",
    "times_tables() == [???]\n",
    "\n",
    "``` \n",
    "\n",
    "def times_tables():\n",
    "    lst = []\n",
    "    for i in range(10):\n",
    "        for j in range (10):\n",
    "            lst.append(i*j)\n",
    "    return lst\n",
    "\n",
    "times_tables() == [j*i for i in range(10) for j in range(10)]"
   ]
  },
  {
   "cell_type": "markdown",
   "metadata": {},
   "source": [
    "\n",
    "Here’s a harder question which brings a few things together.\n",
    "\n",
    "Many organizations have user ids which are constrained in some way. Imagine you work at an internet service provider and the user ids are all two letters followed by two numbers (e.g. aa49). Your task at such an organization might be to hold a record on the billing activity for each possible user. \n",
    "\n",
    "Write an initialization line as a single list comprehension which creates a list of all possible user ids. Assume the letters are all lower case.\n",
    "\n",
    "``` python\n",
    "\n",
    "\n",
    "lowercase = 'abcdefghijklmnopqrstuvwxyz'\n",
    "digits = '0123456789'\n",
    "\n",
    "answer = [???]\n",
    "correct_answer == answer\n",
    "```\n",
    "\n",
    "\n",
    "lowercase = 'abcdefghijklmnopqrstuvwxyz'\n",
    "digits = '0123456789'\n",
    "\n",
    "correct_answer = [a+b+c+d for a in lowercase for b in lowercase for c in digits for d in digits]\n",
    "\n",
    "correct_answer[:50] # Display first 50 ids"
   ]
  }
 ],
 "metadata": {
  "kernelspec": {
   "display_name": "Python 3",
   "language": "python",
   "name": "python3"
  },
  "language_info": {
   "codemirror_mode": {
    "name": "ipython",
    "version": 3
   },
   "file_extension": ".py",
   "mimetype": "text/x-python",
   "name": "python",
   "nbconvert_exporter": "python",
   "pygments_lexer": "ipython3",
   "version": "3.11.5"
  },
  "orig_nbformat": 4
 },
 "nbformat": 4,
 "nbformat_minor": 2
}
