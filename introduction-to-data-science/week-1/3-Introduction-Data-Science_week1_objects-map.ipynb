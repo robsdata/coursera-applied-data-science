{
 "cells": [
  {
   "cell_type": "markdown",
   "metadata": {},
   "source": [
    "# **WEEK 1**\n",
    "## Fundamentals of Data Manipulation with Python\n",
    "---"
   ]
  },
  {
   "cell_type": "markdown",
   "metadata": {},
   "source": [
    "### **Advanced Python Objects, map()**"
   ]
  },
  {
   "cell_type": "markdown",
   "metadata": {},
   "source": [
    "#### **Understanding Object-Oriented Python**\n",
    "\n",
    "In Python, object-oriented programming (OOP) is a powerful paradigm that allows you to work with classes, objects, and methods. While this knowledge base article won't delve into the intricacies of OOP, it provides a basic introduction to key concepts in object-oriented Python.\n",
    "\n",
    "### **The Basics of Classes and Objects**\n",
    "\n",
    "In Python, you can define classes using the `class` keyword, followed by a colon. Anything indented under the class definition is within the scope of that class. Class names in Python are typically written in camel case, where the first character of each word is capitalized.\n",
    "\n",
    "Unlike some other programming languages, you don't need to declare variables within a class; you can start using them directly. Class variables can also be declared, and they are shared across all instances of the class.\n",
    "\n",
    "#### **Methods and Object Creation**\n",
    "\n",
    "To define a method within a class, you write it just like you would write a regular function. The only difference is that, to access the instance on which a method is being invoked, you must include `self` in the method signature.\n",
    "\n",
    "Instance variables are referred to using the `self` keyword followed by a dot. Methods can change instance-bound variables.\n",
    "\n",
    "#### **Creating and Using Objects**\n",
    "\n",
    "To create an object of a class, you instantiate the class by calling its name followed by empty parentheses. You can then call functions and print attributes of the class using dot notation, which is common in many programming languages.\n",
    "\n",
    "#### **Key Takeaways**\n",
    "\n",
    "There are a few important takeaways from this brief introduction to Python objects and OOP:\n",
    "\n",
    "1. In Python, objects do not have private or protected members. If you instantiate an object, you have full access to any of its methods or attributes.\n",
    "\n",
    "2. Python doesn't require an explicit constructor when creating objects. You can add a constructor by declaring the `__init__` method.\n",
    "\n",
    "While this article provides a basic understanding of objects in Python, there are many more subtleties to explore. For those interested in diving deeper, the Python documentation offers a comprehensive overview of the language's object-oriented features."
   ]
  },
  {
   "cell_type": "code",
   "execution_count": 16,
   "metadata": {},
   "outputs": [],
   "source": [
    "class Person:\n",
    "    department = 'School of Information'\n",
    "\n",
    "    def set_name(self, new_name):\n",
    "        self.name = new_name  # Use 'self.name' to store the name\n",
    "    \n",
    "    def set_location(self, new_location):\n",
    "        self.location = new_location  # Use 'self.location' to store the location\n"
   ]
  },
  {
   "cell_type": "code",
   "execution_count": 17,
   "metadata": {},
   "outputs": [
    {
     "name": "stdout",
     "output_type": "stream",
     "text": [
      "Roberto Hernandez lives in La Libertad, El Salvador and works in the department School of Information\n"
     ]
    }
   ],
   "source": [
    "person = Person()\n",
    "person.set_name('Roberto Hernandez')\n",
    "person.set_location('La Libertad, El Salvador')\n",
    "print('{} lives in {} and works in the department {}'.format(person.name, person.location, person.department))"
   ]
  },
  {
   "cell_type": "markdown",
   "metadata": {},
   "source": [
    "\n",
    "### **Functional Programming with Python**\n",
    "\n",
    "Functional programming is a programming paradigm that emphasizes explicit parameter declarations and side-effect-free functions. While Python is not a purely functional programming language, it does support functional programming concepts.\n",
    "\n",
    "One fundamental function in functional programming is the `map` function. It's a building block for functional programming in Python and is used for applying a given function to a sequence of items. The `map` function takes a function as its first parameter and one or more iterable arguments. It applies the function to each item in the iterable(s).\n",
    "\n",
    "For example, if you have two lists of numbers representing prices from different stores and want to find the minimum price for each item, you can use the `map` function to accomplish this in a single statement.\n",
    "\n",
    "#### **Lazy Evaluation**\n",
    "\n",
    "When you use the `map` function, it returns a map object rather than immediately executing the function on all items. This is called lazy evaluation. Python waits to compute the results until you request them. This design pattern is useful for managing memory efficiently, especially with large datasets or computationally complex operations.\n",
    "\n",
    "#### **Wrapping It Up**\n",
    "\n",
    "Functional programming, along with object-oriented programming, is a valuable toolset for data analysis and cleaning. It allows you to efficiently manipulate data using functions and data structures, which is a common practice in data science.\n"
   ]
  },
  {
   "cell_type": "code",
   "execution_count": 18,
   "metadata": {},
   "outputs": [
    {
     "data": {
      "text/plain": [
       "<map at 0x22e55d99cf0>"
      ]
     },
     "execution_count": 18,
     "metadata": {},
     "output_type": "execute_result"
    }
   ],
   "source": [
    "store1 = [12.23, 23.54, 12.43, 54.45, 34.56, 43.67]\n",
    "store2 = [34.54, 76.54, 23.56, 65.43, 23.34, 76.54]\n",
    "\n",
    "cheapest = map(min, store1, store2)\n",
    "cheapest"
   ]
  },
  {
   "cell_type": "markdown",
   "metadata": {},
   "source": [
    "Here is a list of faculty teaching this MOOC. Can you write a function and apply it using map() to get a list of all faculty titles and last names (e.g. ['Dr. Brooks', 'Dr. Collins-Thompson', …]) ?\n",
    "\n",
    "``` python\n",
    "\n",
    "people = ['Dr. Christopher Brooks', 'Dr. Kevyn Collins-Thompson', 'Dr. VG Vinod Vydiswaran', 'Dr. Daniel Romero']\n",
    "\n",
    "def split_title_and_name(person):\n",
    "    return #Your answer here\n",
    "\n",
    "list(map(#Your answer here))\n"
   ]
  },
  {
   "cell_type": "code",
   "execution_count": 19,
   "metadata": {},
   "outputs": [
    {
     "data": {
      "text/plain": [
       "['Dr. Brooks', 'Dr. Collins-Thompson', 'Dr. Vydiswaran', 'Dr. Romero']"
      ]
     },
     "execution_count": 19,
     "metadata": {},
     "output_type": "execute_result"
    }
   ],
   "source": [
    "people = ['Dr. Christopher Brooks', 'Dr. Kevyn Collins-Thompson', 'Dr. VG Vinod Vydiswaran', 'Dr. Daniel Romero']\n",
    "\n",
    "def split_title_and_name(person):\n",
    "    \n",
    "    title = person.split()[0]\n",
    "    last_name = person.split()[-1]\n",
    "\n",
    "    return '{} {}'.format(title, last_name)\n",
    "\n",
    "list(map(split_title_and_name, people))\n"
   ]
  }
 ],
 "metadata": {
  "kernelspec": {
   "display_name": "Python 3",
   "language": "python",
   "name": "python3"
  },
  "language_info": {
   "codemirror_mode": {
    "name": "ipython",
    "version": 3
   },
   "file_extension": ".py",
   "mimetype": "text/x-python",
   "name": "python",
   "nbconvert_exporter": "python",
   "pygments_lexer": "ipython3",
   "version": "3.11.5"
  },
  "orig_nbformat": 4
 },
 "nbformat": 4,
 "nbformat_minor": 2
}
