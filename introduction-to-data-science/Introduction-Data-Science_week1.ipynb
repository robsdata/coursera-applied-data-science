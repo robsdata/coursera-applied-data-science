{
 "cells": [
  {
   "cell_type": "markdown",
   "metadata": {},
   "source": [
    "# Introduction to Data Science in Python\n"
   ]
  },
  {
   "cell_type": "markdown",
   "metadata": {},
   "source": [
    "## **WEEK 1**\n",
    "### Fundamentals of Data Manipulation with Python"
   ]
  },
  {
   "cell_type": "markdown",
   "metadata": {},
   "source": [
    "#### Learning Objectives\n",
    "\n",
    "---\n",
    "\n",
    "- Load, manipulate, and select data using numpy, as well as understand the fundamental data types in the numpy ecosystem\n",
    "- Show the benefits of vectorization with numpy data\n",
    "- Apply regular expressions to string data\n",
    "- Demonstrate, at a high level, how regular expression pattern matching is expressed"
   ]
  },
  {
   "cell_type": "markdown",
   "metadata": {},
   "source": [
    "### Create a Summary for a Notebook\n",
    "\n",
    "In this notebook summary, we provide an overview of the content covered in a transcript. The main points discussed are as follows:\n",
    "\n",
    "1. **Python's Readability:** Python is a highly versatile programming language known for its simplicity and readability. Its clean syntax makes it accessible to those without prior programming experience.\n",
    "\n",
    "2. **Interactive Learning:** Python's interactive nature allows users to write and evaluate code line by line, making it suitable for tasks requiring investigation and experimentation.\n",
    "\n",
    "3. **Dynamic Typing:** Python is dynamically typed, meaning variable types can change without explicit declarations. This flexibility is especially beneficial in an interactive environment.\n",
    "\n",
    "4. **Jupyter Notebooks:** Python seamlessly integrates with Jupyter notebooks, an environment that allows code to be divided into cells and executed on demand. It's an ideal tool for both learning and experimentation.\n",
    "\n",
    "5. **Simplicity:** Python minimizes boilerplate code, enabling learners to perform tasks with minimal setup. Variables can be set and manipulated with ease.\n",
    "\n",
    "6. **Interactive Interpreter:** Python's interactive mode facilitates immediate code execution and real-time feedback, enhancing the learning process.\n",
    "\n",
    "7. **Function Basics:** Python's functions are defined using the `def` keyword and utilize indentation for scope definition. They support default parameter values, making them versatile and adaptable to various scenarios.\n"
   ]
  },
  {
   "cell_type": "code",
   "execution_count": 108,
   "metadata": {},
   "outputs": [
    {
     "data": {
      "text/plain": [
       "3"
      ]
     },
     "execution_count": 108,
     "metadata": {},
     "output_type": "execute_result"
    }
   ],
   "source": [
    "# Variables\n",
    "\n",
    "x = 1\n",
    "y = 2\n",
    "\n",
    "x + y"
   ]
  },
  {
   "cell_type": "markdown",
   "metadata": {},
   "source": [
    "### Python Functions\n",
    "\n",
    "\n",
    "- **No Return Type Declaration:** In Python, you don't have to specify the return type of a function. Unlike some other languages where you might declare a function to return a specific data type (e.g., int, string), Python is dynamically typed, so you can return any type of data without specifying it beforehand.\n",
    "\n",
    "- **No Explicit Return Statement:** You don't necessarily have to include a return statement in your Python functions. If you omit the return statement, the function will automatically return a special value called `None`. This is similar to the concept of `null` in Java and indicates the absence of a value being returned.\n",
    "\n",
    "- **Default Parameter Values:** Python allows you to set default values for function parameters. For example, you can define a function with default parameter values, and if the caller doesn't provide a value for a particular parameter, the default value is used. This feature is useful for creating functions with optional arguments. It eliminates the need to overload functions with different parameter lists.\n",
    "\n",
    "**Here's an example related to the third point:**\n",
    "\n",
    "```python\n",
    "def add_numbers(a, b, c=None):\n",
    "    if c is None:\n",
    "        # If c is not provided, use a default value of None\n",
    "        return a + b\n",
    "    else:\n",
    "        # If c is provided, use it\n",
    "        return a + b + c\n"
   ]
  },
  {
   "cell_type": "code",
   "execution_count": 109,
   "metadata": {},
   "outputs": [
    {
     "data": {
      "text/plain": [
       "3"
      ]
     },
     "execution_count": 109,
     "metadata": {},
     "output_type": "execute_result"
    }
   ],
   "source": [
    "def add_numbers(x, y):\n",
    "    return x + y\n",
    "\n",
    "add_numbers(1, 2)"
   ]
  },
  {
   "cell_type": "code",
   "execution_count": 110,
   "metadata": {},
   "outputs": [
    {
     "name": "stdout",
     "output_type": "stream",
     "text": [
      "3\n"
     ]
    }
   ],
   "source": [
    "def add_three_numbers(x, y, z = None):\n",
    "\n",
    "    if(z == None):\n",
    "        return x + y\n",
    "    else:\n",
    "        return x + y + z\n",
    "\n",
    "\n",
    "print(add_three_numbers(1, 2))"
   ]
  },
  {
   "cell_type": "code",
   "execution_count": 111,
   "metadata": {},
   "outputs": [
    {
     "name": "stdout",
     "output_type": "stream",
     "text": [
      "6\n"
     ]
    }
   ],
   "source": [
    "def add_three_numbers(x, y, z = None):\n",
    "\n",
    "    if(z == None):\n",
    "        return x + y\n",
    "    else:\n",
    "        return x + y + z\n",
    "\n",
    "\n",
    "print(add_three_numbers(1, 2, 3))"
   ]
  },
  {
   "cell_type": "markdown",
   "metadata": {},
   "source": [
    "This function should add the two values if the value of the \"kind\" parameter is \"add\" or is not passed in, otherwise it should subtract the second value from the first. \n",
    "\n",
    "Can you fix the function so that it works?\n",
    "\n",
    "\n",
    "``` python\n",
    "\n",
    "def do_math(?, ?, ?):\n",
    "    if (kind=='add'):\n",
    "        return a+b\n",
    "    else:\n",
    "        return a-b\n",
    "\n",
    "do_math(1, 2)"
   ]
  },
  {
   "cell_type": "code",
   "execution_count": 112,
   "metadata": {},
   "outputs": [
    {
     "data": {
      "text/plain": [
       "3"
      ]
     },
     "execution_count": 112,
     "metadata": {},
     "output_type": "execute_result"
    }
   ],
   "source": [
    "def do_math(a, b, kind = 'add'):\n",
    "\n",
    "    if (kind=='add'):\n",
    "        return a+b\n",
    "    else:\n",
    "        return a-b\n",
    "    \n",
    "do_math(1, 2)"
   ]
  },
  {
   "cell_type": "code",
   "execution_count": 113,
   "metadata": {},
   "outputs": [
    {
     "data": {
      "text/plain": [
       "-1"
      ]
     },
     "execution_count": 113,
     "metadata": {},
     "output_type": "execute_result"
    }
   ],
   "source": [
    "def do_math(a, b, kind = 'add'):\n",
    "\n",
    "    if (kind=='add'):\n",
    "        return a+b\n",
    "    else:\n",
    "        return a-b\n",
    "    \n",
    "do_math(1, 2, 2)"
   ]
  },
  {
   "cell_type": "markdown",
   "metadata": {},
   "source": [
    "### Python Types and Sequences\n",
    "\n",
    "- **Data Types in Python**: Python may not enforce static typing, but it indeed has data types. The `type` function helps identify the type of a reference. Common data types include strings, NoneType (representing absence), integers, and floating-point variables. Python also supports function types.\n",
    "\n",
    "- **Collections in Python**: Python's core revolves around various sequence and collection types. Three native collections are discussed: tuples, lists, and dictionaries.\n",
    "\n",
    "- **Tuples**: Tuples are ordered sequences of variables that are immutable once created. They use parentheses for declaration and can hold a mix of data types.\n",
    "\n",
    "- **Lists**: Lists are similar to tuples but mutable, allowing for changes in length and element values. Lists are declared using square brackets and can be modified using functions like `append`.\n",
    "\n",
    "- **Iterating Collections**: Both lists and tuples are iterable types, allowing the use of `for` loops to iterate through their elements. Python doesn't require explicit typing.\n",
    "\n",
    "- **Indexing and Slicing**: Python enables indexing and slicing of lists, tuples, and strings. Slicing involves specifying a start and an exclusive end position. Negative indices can be used to index from the end. Slicing is crucial for scientific computing and manipulating strings.\n",
    "\n",
    "- **String Manipulation**: Strings in Python can be manipulated through operations like concatenation, repetition, and searching. The `split` function is used to break strings into substrings based on patterns.\n",
    "\n",
    "- **Dictionaries**: Dictionaries are labeled collections without a specific order. They use curly braces and consist of key-value pairs. Items can be added, iterated through, and retrieved by key.\n",
    "\n",
    "- **Unpacking Sequences**: Python supports sequence unpacking, where a sequence (list or tuple) can be assigned to multiple variables in one statement. Unpacking assigns values in order.\n"
   ]
  },
  {
   "cell_type": "markdown",
   "metadata": {},
   "source": [
    "### **Basics**"
   ]
  },
  {
   "cell_type": "code",
   "execution_count": 114,
   "metadata": {},
   "outputs": [
    {
     "data": {
      "text/plain": [
       "NoneType"
      ]
     },
     "execution_count": 114,
     "metadata": {},
     "output_type": "execute_result"
    }
   ],
   "source": [
    "type(None)"
   ]
  },
  {
   "cell_type": "code",
   "execution_count": 115,
   "metadata": {},
   "outputs": [
    {
     "data": {
      "text/plain": [
       "int"
      ]
     },
     "execution_count": 115,
     "metadata": {},
     "output_type": "execute_result"
    }
   ],
   "source": [
    "type(2)"
   ]
  },
  {
   "cell_type": "code",
   "execution_count": 116,
   "metadata": {},
   "outputs": [
    {
     "data": {
      "text/plain": [
       "float"
      ]
     },
     "execution_count": 116,
     "metadata": {},
     "output_type": "execute_result"
    }
   ],
   "source": [
    "type(1.9)"
   ]
  },
  {
   "cell_type": "code",
   "execution_count": 117,
   "metadata": {},
   "outputs": [
    {
     "data": {
      "text/plain": [
       "function"
      ]
     },
     "execution_count": 117,
     "metadata": {},
     "output_type": "execute_result"
    }
   ],
   "source": [
    "type(add_numbers)"
   ]
  },
  {
   "cell_type": "code",
   "execution_count": 118,
   "metadata": {},
   "outputs": [
    {
     "data": {
      "text/plain": [
       "tuple"
      ]
     },
     "execution_count": 118,
     "metadata": {},
     "output_type": "execute_result"
    }
   ],
   "source": [
    "example_tuple = (1, 'a', 2, 'b')\n",
    "type(example_tuple)"
   ]
  },
  {
   "cell_type": "code",
   "execution_count": 119,
   "metadata": {},
   "outputs": [
    {
     "data": {
      "text/plain": [
       "list"
      ]
     },
     "execution_count": 119,
     "metadata": {},
     "output_type": "execute_result"
    }
   ],
   "source": [
    "example_list = [1, 'a', 2, 'b']\n",
    "type(example_list)"
   ]
  },
  {
   "cell_type": "code",
   "execution_count": 120,
   "metadata": {},
   "outputs": [
    {
     "name": "stdout",
     "output_type": "stream",
     "text": [
      "[1, 'a', 2, 'b', 3]\n"
     ]
    }
   ],
   "source": [
    "example_list.append(3)\n",
    "print(example_list)"
   ]
  },
  {
   "cell_type": "code",
   "execution_count": 121,
   "metadata": {},
   "outputs": [
    {
     "name": "stdout",
     "output_type": "stream",
     "text": [
      "1\n",
      "a\n",
      "2\n",
      "b\n",
      "3\n"
     ]
    }
   ],
   "source": [
    "for item in example_list:\n",
    "    print(item)"
   ]
  },
  {
   "cell_type": "code",
   "execution_count": 122,
   "metadata": {},
   "outputs": [
    {
     "name": "stdout",
     "output_type": "stream",
     "text": [
      "1\n",
      "a\n",
      "2\n",
      "b\n",
      "3\n"
     ]
    }
   ],
   "source": [
    "i = 0\n",
    "\n",
    "while( i != len(example_list)):\n",
    "    print(example_list[i])\n",
    "    i += 1"
   ]
  },
  {
   "cell_type": "code",
   "execution_count": 123,
   "metadata": {},
   "outputs": [],
   "source": [
    "number_list = [3, 4, 6, 1, 7, 8, 35, 56, 23, 78, 12, 34, 89, 34, 56, 74, 18, 84, 75]\n"
   ]
  },
  {
   "cell_type": "code",
   "execution_count": 124,
   "metadata": {},
   "outputs": [
    {
     "data": {
      "text/plain": [
       "1"
      ]
     },
     "execution_count": 124,
     "metadata": {},
     "output_type": "execute_result"
    }
   ],
   "source": [
    "min(number_list)"
   ]
  },
  {
   "cell_type": "code",
   "execution_count": 125,
   "metadata": {},
   "outputs": [
    {
     "data": {
      "text/plain": [
       "89"
      ]
     },
     "execution_count": 125,
     "metadata": {},
     "output_type": "execute_result"
    }
   ],
   "source": [
    "max(number_list)"
   ]
  },
  {
   "cell_type": "markdown",
   "metadata": {},
   "source": [
    "### **Operations**"
   ]
  },
  {
   "cell_type": "code",
   "execution_count": 126,
   "metadata": {},
   "outputs": [],
   "source": [
    "test_list_a = [1, 2, 3, 4]\n",
    "test_list_b = [4, 5, 6, 7]"
   ]
  },
  {
   "cell_type": "code",
   "execution_count": 127,
   "metadata": {},
   "outputs": [
    {
     "data": {
      "text/plain": [
       "[1, 2, 3, 4, 1, 2, 3, 4, 1, 2, 3, 4]"
      ]
     },
     "execution_count": 127,
     "metadata": {},
     "output_type": "execute_result"
    }
   ],
   "source": [
    "test_list_a * 3"
   ]
  },
  {
   "cell_type": "code",
   "execution_count": 128,
   "metadata": {},
   "outputs": [
    {
     "data": {
      "text/plain": [
       "[1, 2, 3, 4, 4, 5, 6, 7]"
      ]
     },
     "execution_count": 128,
     "metadata": {},
     "output_type": "execute_result"
    }
   ],
   "source": [
    "test_list_a + test_list_b"
   ]
  },
  {
   "cell_type": "code",
   "execution_count": 129,
   "metadata": {},
   "outputs": [
    {
     "data": {
      "text/plain": [
       "False"
      ]
     },
     "execution_count": 129,
     "metadata": {},
     "output_type": "execute_result"
    }
   ],
   "source": [
    "8 in test_list_b"
   ]
  },
  {
   "cell_type": "code",
   "execution_count": 130,
   "metadata": {},
   "outputs": [
    {
     "data": {
      "text/plain": [
       "True"
      ]
     },
     "execution_count": 130,
     "metadata": {},
     "output_type": "execute_result"
    }
   ],
   "source": [
    "2 in test_list_a"
   ]
  },
  {
   "cell_type": "markdown",
   "metadata": {},
   "source": [
    "### **Slicing**"
   ]
  },
  {
   "cell_type": "code",
   "execution_count": 131,
   "metadata": {},
   "outputs": [
    {
     "name": "stdout",
     "output_type": "stream",
     "text": [
      "H\n",
      "H\n",
      "He\n"
     ]
    }
   ],
   "source": [
    "example_string  = 'Hello World!'\n",
    "\n",
    "print(example_string[0])\n",
    "print(example_string[0:1])\n",
    "print(example_string[0:2])\n"
   ]
  },
  {
   "cell_type": "code",
   "execution_count": 132,
   "metadata": {},
   "outputs": [
    {
     "data": {
      "text/plain": [
       "'!'"
      ]
     },
     "execution_count": 132,
     "metadata": {},
     "output_type": "execute_result"
    }
   ],
   "source": [
    "example_string[-1]"
   ]
  },
  {
   "cell_type": "code",
   "execution_count": 136,
   "metadata": {},
   "outputs": [
    {
     "data": {
      "text/plain": [
       "'rl'"
      ]
     },
     "execution_count": 136,
     "metadata": {},
     "output_type": "execute_result"
    }
   ],
   "source": [
    "example_string[-4:-2]"
   ]
  },
  {
   "cell_type": "code",
   "execution_count": 137,
   "metadata": {},
   "outputs": [
    {
     "data": {
      "text/plain": [
       "'lo World!'"
      ]
     },
     "execution_count": 137,
     "metadata": {},
     "output_type": "execute_result"
    }
   ],
   "source": [
    "example_string[3:]"
   ]
  },
  {
   "cell_type": "code",
   "execution_count": null,
   "metadata": {},
   "outputs": [
    {
     "data": {
      "text/plain": [
       "'Hel'"
      ]
     },
     "execution_count": 107,
     "metadata": {},
     "output_type": "execute_result"
    }
   ],
   "source": [
    "example_string[:3]"
   ]
  },
  {
   "cell_type": "markdown",
   "metadata": {},
   "source": [
    "## **Manipulate Strings**\n",
    "\n",
    "- **Regular Expresion Evaluation**: Often referred to as regex or regexp, is a powerful tool for pattern matching and text manipulation. It involves the use of special characters and rules to search, extract, or manipulate strings based on specific patterns. \n",
    "\n",
    "\n",
    "### **Basic tools for texts analysis in Python**"
   ]
  },
  {
   "cell_type": "code",
   "execution_count": 141,
   "metadata": {},
   "outputs": [
    {
     "data": {
      "text/plain": [
       "'Roberto Hernandez'"
      ]
     },
     "execution_count": 141,
     "metadata": {},
     "output_type": "execute_result"
    }
   ],
   "source": [
    "first_name = 'Roberto'\n",
    "last_name = 'Hernandez'\n",
    "\n",
    "full_name = first_name + ' ' + last_name\n",
    "\n",
    "full_name"
   ]
  },
  {
   "cell_type": "code",
   "execution_count": 139,
   "metadata": {},
   "outputs": [
    {
     "data": {
      "text/plain": [
       "'RobertoRobertoRoberto'"
      ]
     },
     "execution_count": 139,
     "metadata": {},
     "output_type": "execute_result"
    }
   ],
   "source": [
    "first_name * 3"
   ]
  },
  {
   "cell_type": "code",
   "execution_count": 140,
   "metadata": {},
   "outputs": [
    {
     "data": {
      "text/plain": [
       "True"
      ]
     },
     "execution_count": 140,
     "metadata": {},
     "output_type": "execute_result"
    }
   ],
   "source": [
    "'Roberto' in first_name"
   ]
  },
  {
   "cell_type": "code",
   "execution_count": 143,
   "metadata": {},
   "outputs": [
    {
     "name": "stdout",
     "output_type": "stream",
     "text": [
      "Roberto\n"
     ]
    }
   ],
   "source": [
    "test_first_name = 'Roberto Anibal Hernandez'.split(' ')[0]\n",
    "print(test_first_name)"
   ]
  },
  {
   "cell_type": "code",
   "execution_count": 146,
   "metadata": {},
   "outputs": [
    {
     "name": "stdout",
     "output_type": "stream",
     "text": [
      "Hernandez\n"
     ]
    }
   ],
   "source": [
    "test_last_name = 'Roberto Anibal Hernandez'.split(' ')[-1]\n",
    "print(test_last_name)"
   ]
  },
  {
   "cell_type": "markdown",
   "metadata": {},
   "source": [
    "### **Python Dictionaries**"
   ]
  },
  {
   "cell_type": "code",
   "execution_count": 148,
   "metadata": {},
   "outputs": [
    {
     "data": {
      "text/plain": [
       "'bill@gmail.com'"
      ]
     },
     "execution_count": 148,
     "metadata": {},
     "output_type": "execute_result"
    }
   ],
   "source": [
    "test_dictionary = {'John Doe':'john@gmail.com', 'Bill Gates':'bill@gmail.com'}\n",
    "\n",
    "test_dictionary['Bill Gates']"
   ]
  },
  {
   "cell_type": "code",
   "execution_count": 150,
   "metadata": {},
   "outputs": [
    {
     "name": "stdout",
     "output_type": "stream",
     "text": [
      "{'John Doe': 'john@gmail.com', 'Bill Gates': 'bill@gmail.com', 'Cristiano Ronaldo': None}\n"
     ]
    }
   ],
   "source": [
    "# Adds 'Cristiano Ronaldo': None\n",
    "\n",
    "test_dictionary['Cristiano Ronaldo'] = None\n",
    "test_dictionary['Cristiano Ronaldo']\n"
   ]
  }
 ],
 "metadata": {
  "kernelspec": {
   "display_name": "Python 3",
   "language": "python",
   "name": "python3"
  },
  "language_info": {
   "codemirror_mode": {
    "name": "ipython",
    "version": 3
   },
   "file_extension": ".py",
   "mimetype": "text/x-python",
   "name": "python",
   "nbconvert_exporter": "python",
   "pygments_lexer": "ipython3",
   "version": "3.11.5"
  },
  "orig_nbformat": 4
 },
 "nbformat": 4,
 "nbformat_minor": 2
}
