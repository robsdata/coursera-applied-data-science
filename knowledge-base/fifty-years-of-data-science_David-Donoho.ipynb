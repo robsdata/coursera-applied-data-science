{
 "cells": [
  {
   "cell_type": "markdown",
   "metadata": {},
   "source": [
    "# 50 years of Data Science, David Donoho\n",
    "\n",
    "---\n",
    "\n",
    "[50 years of Data Science, David Donoho](http://courses.csail.mit.edu/18.337/2015/docs/50YearsDataScience.pdf)"
   ]
  }
 ],
 "metadata": {
  "language_info": {
   "name": "python"
  },
  "orig_nbformat": 4
 },
 "nbformat": 4,
 "nbformat_minor": 2
}
